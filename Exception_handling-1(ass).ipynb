{
 "cells": [
  {
   "cell_type": "markdown",
   "id": "afa13c1f",
   "metadata": {},
   "source": [
    "# question 1"
   ]
  },
  {
   "cell_type": "code",
   "execution_count": 1,
   "id": "db029e09",
   "metadata": {},
   "outputs": [],
   "source": [
    "# Exception:-we will discuss how to handle exceptions in Python using try, except, and finally statements with the help of proper examples. \n",
    "\n",
    "#Error in Python can be of two types i.e. Syntax errors and Exceptions. Errors are problems in a program due to which the program will stop the execution. On the other hand, exceptions are raised when some internal events occur which change the normal flow of the program. "
   ]
  },
  {
   "cell_type": "code",
   "execution_count": 2,
   "id": "bc2faf63",
   "metadata": {},
   "outputs": [
    {
     "ename": "SyntaxError",
     "evalue": "expected ':' (2759361197.py, line 9)",
     "output_type": "error",
     "traceback": [
      "\u001b[1;36m  Cell \u001b[1;32mIn[2], line 9\u001b[1;36m\u001b[0m\n\u001b[1;33m    if(amount > 2999)\u001b[0m\n\u001b[1;37m                     ^\u001b[0m\n\u001b[1;31mSyntaxError\u001b[0m\u001b[1;31m:\u001b[0m expected ':'\n"
     ]
    }
   ],
   "source": [
    "# difference btw exception and syntax error\n",
    "#Syntax Error: As the name suggests this error is caused by the wrong syntax in the code. It leads to the termination of the program. \n",
    " # example\n",
    "    \n",
    "  \n",
    "amount = 10000\n",
    " \n",
    "\n",
    "if(amount > 2999)\n",
    "print(\"You are eligible to purchase Dsa Self Paced\")"
   ]
  },
  {
   "cell_type": "code",
   "execution_count": 3,
   "id": "927ca006",
   "metadata": {},
   "outputs": [],
   "source": [
    "#Exceptions: Exceptions are raised when the program is syntactically correct, but the code results in an error. This error does not stop the execution of the program, however, it changes the normal flow of the program."
   ]
  },
  {
   "cell_type": "code",
   "execution_count": 4,
   "id": "ce606b78",
   "metadata": {},
   "outputs": [
    {
     "ename": "ZeroDivisionError",
     "evalue": "division by zero",
     "output_type": "error",
     "traceback": [
      "\u001b[1;31m---------------------------------------------------------------------------\u001b[0m",
      "\u001b[1;31mZeroDivisionError\u001b[0m                         Traceback (most recent call last)",
      "Cell \u001b[1;32mIn[4], line 5\u001b[0m\n\u001b[0;32m      2\u001b[0m marks \u001b[38;5;241m=\u001b[39m \u001b[38;5;241m10000\u001b[39m\n\u001b[0;32m      4\u001b[0m \u001b[38;5;66;03m# perform division with 0\u001b[39;00m\n\u001b[1;32m----> 5\u001b[0m a \u001b[38;5;241m=\u001b[39m \u001b[43mmarks\u001b[49m\u001b[43m \u001b[49m\u001b[38;5;241;43m/\u001b[39;49m\u001b[43m \u001b[49m\u001b[38;5;241;43m0\u001b[39;49m\n\u001b[0;32m      6\u001b[0m \u001b[38;5;28mprint\u001b[39m(a)\n",
      "\u001b[1;31mZeroDivisionError\u001b[0m: division by zero"
     ]
    }
   ],
   "source": [
    "#example:-\n",
    "marks = 10000\n",
    " \n",
    "# perform division with 0\n",
    "a = marks / 0\n",
    "print(a)"
   ]
  },
  {
   "cell_type": "code",
   "execution_count": 5,
   "id": "bf29954c",
   "metadata": {},
   "outputs": [
    {
     "data": {
      "text/plain": [
       "33"
      ]
     },
     "execution_count": 5,
     "metadata": {},
     "output_type": "execute_result"
    }
   ],
   "source": [
    "try :\n",
    "    f = open(\"test.text\",'r')\n",
    "except Exception as e:\n",
    "    print(\"this is my try block\" , e)\n",
    "    \n",
    "a= 10 + 23\n",
    "a"
   ]
  },
  {
   "cell_type": "markdown",
   "id": "8b17817e",
   "metadata": {},
   "source": [
    "# question 2"
   ]
  },
  {
   "cell_type": "code",
   "execution_count": 6,
   "id": "f10f3bd4",
   "metadata": {},
   "outputs": [],
   "source": [
    "#When an exception occurred, if you don't handle it, the program terminates abruptly and the code past the line that caused the exception will not get executed."
   ]
  },
  {
   "cell_type": "code",
   "execution_count": 10,
   "id": "12954f07",
   "metadata": {},
   "outputs": [
    {
     "name": "stdout",
     "output_type": "stream",
     "text": [
      "Error: division by zero\n"
     ]
    }
   ],
   "source": [
    "# example\n",
    "def divide(a, b):\n",
    "    return a / b\n",
    "\n",
    "try:\n",
    "    result = divide(10, 0)\n",
    "    print(\"The result is:\", result)\n",
    "except ZeroDivisionError as e:\n",
    "    print(\"Error:\", e)\n",
    "\n"
   ]
  },
  {
   "cell_type": "markdown",
   "id": "1a986775",
   "metadata": {},
   "source": [
    "# question 3"
   ]
  },
  {
   "cell_type": "code",
   "execution_count": 8,
   "id": "904fe9ed",
   "metadata": {},
   "outputs": [],
   "source": [
    "# the try-except statements are used to catch and handle exceptions. The try block is where you place the code that might raise an exception, and the except block is where you handle the exception if it occurs"
   ]
  },
  {
   "cell_type": "code",
   "execution_count": 11,
   "id": "19eb4230",
   "metadata": {},
   "outputs": [
    {
     "name": "stdout",
     "output_type": "stream",
     "text": [
      "this will be excuted once your try will execut without any error \n"
     ]
    }
   ],
   "source": [
    "# example:-\n",
    "try :\n",
    "    f = open(\"test.text\",'w')\n",
    "    f.write(\"write into my file\")\n",
    "\n",
    "except Exception as e:\n",
    "    print(\"this is my try block\" , e)\n",
    "    \n",
    "else:\n",
    "    f.close()\n",
    "    print(\"this will be excuted once your try will execut without any error \")\n"
   ]
  },
  {
   "cell_type": "markdown",
   "id": "3e549b12",
   "metadata": {},
   "source": [
    "# question 4"
   ]
  },
  {
   "cell_type": "code",
   "execution_count": 12,
   "id": "d588196d",
   "metadata": {},
   "outputs": [
    {
     "name": "stdout",
     "output_type": "stream",
     "text": [
      "this will be excuted once your try will execut without any error \n"
     ]
    }
   ],
   "source": [
    "# 1. try and else\n",
    "try :\n",
    "    f = open(\"test.text\",'w')\n",
    "    f.write(\"write into my file\")\n",
    "\n",
    "except Exception as e:\n",
    "    print(\"this is my try block\" , e)\n",
    "    \n",
    "else:\n",
    "    f.close()\n",
    "    print(\"this will be excuted once your try will execut without any error \")\n",
    "\n",
    " "
   ]
  },
  {
   "cell_type": "code",
   "execution_count": 13,
   "id": "698029a5",
   "metadata": {},
   "outputs": [
    {
     "name": "stdout",
     "output_type": "stream",
     "text": [
      "finally execute\n"
     ]
    }
   ],
   "source": [
    "# 2. finally\n",
    "try:\n",
    "    f = open(\"test2.txt\" , \"w\")\n",
    "    f.write(\"write something\")\n",
    "    \n",
    "finally:\n",
    "    print(\"finally execute\")"
   ]
  },
  {
   "cell_type": "code",
   "execution_count": 14,
   "id": "ced03886",
   "metadata": {},
   "outputs": [],
   "source": [
    "# 3. raise\n",
    "def valid_age(age):\n",
    "    if age < 0:\n",
    "        raise vaild_age('enter age is negative' )\n",
    "        \n",
    "    elif age >200 :\n",
    "        raise vaild_age('agae is very high')\n",
    "        \n",
    "    else:\n",
    "        print(\"vaild\")"
   ]
  },
  {
   "cell_type": "markdown",
   "id": "aebcd4c7",
   "metadata": {},
   "source": [
    "# question 5"
   ]
  },
  {
   "cell_type": "code",
   "execution_count": 15,
   "id": "311af5e2",
   "metadata": {},
   "outputs": [],
   "source": [
    "#A Python custom exception is a user-defined exception that is created by the programmer to handle specific error scenarios in a program."
   ]
  },
  {
   "cell_type": "code",
   "execution_count": 16,
   "id": "735564b5",
   "metadata": {},
   "outputs": [],
   "source": [
    "# why ? =custom exceptions will add information about project-related problems. That way, you can design your code (and traceback, if an exception is raised) in a way that combines Python code with the language of the project."
   ]
  },
  {
   "cell_type": "markdown",
   "id": "ad01dadf",
   "metadata": {},
   "source": [
    "# question 6"
   ]
  },
  {
   "cell_type": "code",
   "execution_count": 19,
   "id": "c93399fe",
   "metadata": {},
   "outputs": [
    {
     "name": "stdout",
     "output_type": "stream",
     "text": [
      "Enter Age:56\n",
      "You will get match details soon by email!!!\n"
     ]
    }
   ],
   "source": [
    "# example:-5 and also using question 6 (answere)\n",
    "\n",
    "class test():\n",
    "   def __init__(self, arg):\n",
    "       self.msg=arg\n",
    "class Test1():\n",
    "   def __init__(self, arg):\n",
    "       self.msg=arg\n",
    "\n",
    "age=int(input(\"Enter Age:\"))\n",
    "if age>60:\n",
    "   raise Test1(\"Your age already crossed marriage age...no chance of getting marriage\")\n",
    "elif age<18:\n",
    "   raise Test(\"Plz wait some more time you will get best match soon!!!\")\n",
    "else:\n",
    "   print(\"You will get match details soon by email!!!\")"
   ]
  },
  {
   "cell_type": "code",
   "execution_count": null,
   "id": "4190ac30",
   "metadata": {},
   "outputs": [],
   "source": []
  }
 ],
 "metadata": {
  "kernelspec": {
   "display_name": "Python 3 (ipykernel)",
   "language": "python",
   "name": "python3"
  },
  "language_info": {
   "codemirror_mode": {
    "name": "ipython",
    "version": 3
   },
   "file_extension": ".py",
   "mimetype": "text/x-python",
   "name": "python",
   "nbconvert_exporter": "python",
   "pygments_lexer": "ipython3",
   "version": "3.11.3"
  }
 },
 "nbformat": 4,
 "nbformat_minor": 5
}
